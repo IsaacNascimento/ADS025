{
  "nbformat": 4,
  "nbformat_minor": 0,
  "metadata": {
    "colab": {
      "name": "Lista5_2.ipynb",
      "provenance": [],
      "collapsed_sections": [],
      "authorship_tag": "ABX9TyNxJd1JVPqP7HLNfY8HzhHM",
      "include_colab_link": true
    },
    "kernelspec": {
      "name": "python3",
      "display_name": "Python 3"
    }
  },
  "cells": [
    {
      "cell_type": "markdown",
      "metadata": {
        "id": "view-in-github",
        "colab_type": "text"
      },
      "source": [
        "<a href=\"https://colab.research.google.com/github/IsaacNascimento/ADS025/blob/master/Lista5_2.ipynb\" target=\"_parent\"><img src=\"https://colab.research.google.com/assets/colab-badge.svg\" alt=\"Open In Colab\"/></a>"
      ]
    },
    {
      "cell_type": "code",
      "metadata": {
        "colab": {
          "base_uri": "https://localhost:8080/",
          "height": 130
        },
        "id": "voSSqGEHLAna",
        "outputId": "5eb6a010-b539-474c-d530-174b12ad17ba"
      },
      "source": [
        "from scipy.stats.mstats import gmean # Biblioteca \n",
        "import statistics # Biblioteca \n",
        "\n",
        "# Questão 1\n",
        "\n",
        "'''l1 = [10, 13, 17, 9, 8, 11, 13, 7] # Lista com números\n",
        "# Alternativa A\n",
        "MediaSimples = statistics.mean(l1) # Funcção que faz a média simples da lista\n",
        "print('\\nA média simples é', round(MediaSimples,2)) # imprime o resultado da média\n",
        "# Alternativa B\n",
        "MediaHarm = statistics.harmonic_mean(l1) # Funcção que faz a média harmonica da lista\n",
        "print('\\nA média harmônica é', round(MediaHarm,2)) # imprime o resultado da média\n",
        "# Alternativa C\n",
        "MediaGeom = gmean(l1) # Funcção que faz a média geometrica da lista\n",
        "print('\\nA média geométrica é', round(MediaGeom,2)) # imprime o resultado da média\n",
        "# Alternativa D\n",
        "Moda = statistics.mode(l1) # Funcção que calcula a moda da lista\n",
        "print('\\nA moda é', round(Moda,2)) # imprime o resultado da moda\n",
        "# Alternativa E\n",
        "Variancia = statistics.variance(l1)  # Funcção que calcula variancia da lista\n",
        "print('\\nA variância é', round(Variancia,2))  # imprime o resultado da variancia\n",
        "# Alternativa F\n",
        "DesvPa = statistics.stdev(l1) # Funcção que calcula O desvio padrão da lista\n",
        "print('\\nO desvio padrão é', round(DesvPa,2)) #  imprime o resultado do desvio padrão  ''' \n",
        "\n",
        "# Questão 2\n",
        "\n",
        "'''from scipy.stats.mstats import gmean # Biblioteca \n",
        "import statistics # Biblioteca \n",
        "l2 = [67, 75, 63, 72, 77, 78, 81, 77, 80] # Lista com números\n",
        "# Alternativa A\n",
        "MediaSimples = statistics.mean(l2) # Funcção que faz a média simples da lista\n",
        "print('\\nA média simples é', round(MediaSimples,2)) # imprime o resultado da média\n",
        "MediaHarm = statistics.harmonic_mean(l2) # Funcção que faz a média harmonica da lista\n",
        "print('\\nA média harmônica é', round(MediaHarm,2))  # imprime o resultado da média \n",
        "MediaGeom = gmean(l2) # Funcção que faz a média geometrica da lista\n",
        "print('\\nA média geométrica é', round(MediaGeom,2))  # imprime o resultado da média\n",
        "# Alternativa B\n",
        "Moda = statistics.mode(l2)  # Funcção que calcula a moda da lista\n",
        "print('\\nA moda é', round(Moda,2)) # imprime o resultado da moda\n",
        "# Alternativa C\n",
        "Mediana = statistics.median(l2) # Funcção que calcula a mediana da lista\n",
        "print('\\nA mediana é', round(Mediana,2)) # imprime o resultado da mediana\n",
        "# Alternativa D\n",
        "Variancia = statistics.variance(l2)  # Funcção que calcula variancia da lista\n",
        "print('\\nA variância é', round(Variancia,2))  # imprime o resultado da variancia\n",
        "# Alternativa E\n",
        "DesvPa = statistics.stdev(l2) # Funcção que calcula O desvio padrão da lista\n",
        "print('\\nO desvio padrão é', round(DesvPa,2)) #  imprime o resultado do desvio padrão '''\n",
        "\n",
        "# Questão 3\n",
        "\n",
        "'''l3 = [4.0, 4.5,  5.0,  5.0,  5.0,  5.5,  6.0,  6.0,   6.5,  6.5,  6.5, \n",
        "      6.5, 7.0,  7.0,  7.0,  7.0,  7.0,  7.0,  7.5,   8.5,  9.0,  9.0,\n",
        "      9.0, 9.5, 10.0, 10.0, 10.5, 10.5, 11.0, 12.0,  12.5, 13.0, 13.0] # Lista com números\n",
        "MediaSimples = statistics.mean(l3)\n",
        "DesvPa = statistics.stdev(l3)\n",
        "CV = (DesvPa/MediaSimples)*100\n",
        "print('O Coeficiente de Variação é', round(CV,2), '%')'''\n",
        "\n",
        "# Questão 4\n",
        "\n",
        "'''l4 = [12, 15, 18, 22, 17, 14, 18, 23, 29, 12]\n",
        "# Alternativa A\n",
        "MediaSimples = statistics.mean(l4) # Funcção que faz a média simples da lista\n",
        "print('O Valor da produção média  é', round(MediaSimples,2)) # imprime o resultado da média\n",
        "# Alternativa B\n",
        "Mediana = statistics.median(l4) # Funcção que calcula a mediana da lista\n",
        "print('\\nO Valor da mediana da produção é', round(Mediana,2))  # imprime o resultado da mediana\n",
        "# Alternativa C\n",
        "DesvPa = statistics.stdev(l4) # Funcção que calcula O desvio padrão da lista\n",
        "print('\\nO Valor do desvio padrão da produção é', round(DesvPa,2)) #  imprime o resultado do desvio padrão'''\n",
        "\n",
        "# Questão 6\n",
        "\n",
        "'''Num = int(input('Insira o número inteiro (Entre 0 e 10): ')) # Recebe um numero\n",
        "if Num<0 and Num>10: # Condição para que o numero seja maior que 10 e menor que 0\n",
        "     while True: # Laço\n",
        "       print('Nota inválida!') # Imprime se for \n",
        "       Num = int(input('Insira o número inteiro (Entre 0 e 10): ')) # Recebe um numero\n",
        "       if Num>=0 or Num<=10: # Condição para que o numero seja maior que 0 e menor que 10\n",
        "         break # Finaliza o laço\n",
        "Num2 =int(input('Insira o número inteiro (Entre 0 e 10): ')) # Recebe um numero\n",
        "if Num2<0 and Num2>10: # Condição para que o numero seja maior que 10 e menor que 0\n",
        "     while True: # Laço\n",
        "       print('Nota inválida!') # Imprime se for \n",
        "       Num = int(input('Insira o número inteiro (Entre 0 e 10): '))  # Recebe um numero\n",
        "       if Num2>=0 or Num2<=10: # Condição para que o numero seja maior que 10 e menor que 0\n",
        "         break # Finaliza o laço\n",
        "Num3 =int(input('Insira o número inteiro (Entre 0 e 10): ')) # Recebe um numero\n",
        "if Num3<0 and Num3>10: # Condição para que o numero seja maior que 10 e menor que 0\n",
        "     while True:  # Laço\n",
        "       print('Nota inválida!') # Imprime se for\n",
        "       Num = int(input('Insira o número inteiro (Entre 0 e 10): ')) # Recebe um numero\n",
        "       if Num3>=0 or Num3<=10: # Condição para que o numero seja maior que 10 e menor que 0\n",
        "         break  # Finaliza o laço\n",
        "Media = Num*3+Num2*4+Num*3/10 # Calcula a media ponderada com cada numero recebido\n",
        "print('A média ponderada é' ,Media) # Imprime a media ponderada''' \n",
        "\n",
        "\n"
      ],
      "execution_count": 29,
      "outputs": [
        {
          "output_type": "error",
          "ename": "IndentationError",
          "evalue": "ignored",
          "traceback": [
            "\u001b[0;36m  File \u001b[0;32m\"<ipython-input-29-547463acdaa2>\"\u001b[0;36m, line \u001b[0;32m110\u001b[0m\n\u001b[0;31m    for _ in alunos:\u001b[0m\n\u001b[0m      ^\u001b[0m\n\u001b[0;31mIndentationError\u001b[0m\u001b[0;31m:\u001b[0m expected an indented block\n"
          ]
        }
      ]
    }
  ]
}