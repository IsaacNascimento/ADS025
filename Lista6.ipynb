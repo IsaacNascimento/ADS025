{
  "nbformat": 4,
  "nbformat_minor": 0,
  "metadata": {
    "colab": {
      "name": "Lista6.ipynb",
      "provenance": [],
      "collapsed_sections": [],
      "authorship_tag": "ABX9TyMWTdk+yPIoQ7+V/k9Vj+e5",
      "include_colab_link": true
    },
    "kernelspec": {
      "name": "python3",
      "display_name": "Python 3"
    }
  },
  "cells": [
    {
      "cell_type": "markdown",
      "metadata": {
        "id": "view-in-github",
        "colab_type": "text"
      },
      "source": [
        "<a href=\"https://colab.research.google.com/github/IsaacNascimento/ADS025/blob/master/Lista6.ipynb\" target=\"_parent\"><img src=\"https://colab.research.google.com/assets/colab-badge.svg\" alt=\"Open In Colab\"/></a>"
      ]
    },
    {
      "cell_type": "code",
      "metadata": {
        "colab": {
          "base_uri": "https://localhost:8080/",
          "height": 234
        },
        "id": "kxj0e5wQnejn",
        "outputId": "063059f0-cfee-43de-d205-e432473bbcbf"
      },
      "source": [
        "# Questão 1\n",
        "\n",
        "'''import pandas as pd #biblioteca\n",
        "import seaborn as sn  #biblioteca\n",
        "import matplotlib.pyplot as plt  #biblioteca\n",
        "dados = {'Criança':    [ 1,  2,  3,  4,  5,  6,  7,  8,  9, 10, 11, 12], # Dicionário, contendo valores.\n",
        "         'Matemática': [60, 58, 73, 51, 54, 75, 48, 72, 75, 83, 62, 52],\n",
        "         'Música':     [80, 62, 70, 83, 62, 92, 79, 88, 54, 82, 64, 69]}\n",
        "df = pd.DataFrame(data,columns = ['Criança', 'Matemática', 'Música']) # Chamada da biblioteca \"pandas\" selecionando as colunas do dicionário\n",
        "Correl = df.corr() # Função que calcula a correlação\n",
        "print(Correl) # Imprime o resultado da correlação\n",
        "sn.heatmap(Correl, annot=True) # Biblioteca que imprime os valores de forma visual\n",
        "plt.show() # De fato mostra e imprime a função da linha acima''' \n",
        "\n",
        "# Questão 2\n",
        "\n",
        "# a) \"Oque se pode dizer com base no valor deste coeficiente de correlação?\"\n",
        "# Resposta: \n",
        "# Significa que a idade da edição e o número de páginas do livro possuem\n",
        "# uma relação inexistente. Desta maneira, se a idade do livro cresce, não necessariamente\n",
        "# o números de páginas diminui ou aumenta. Assim, significa que o coeficiente \n",
        "# de correlação está pequeno já que a relação está entre os dados é desprezível. \n",
        "\n",
        "# Questão 3\n",
        "\n",
        "'''import pandas as pd #biblioteca\n",
        "import seaborn as sn   #biblioteca\n",
        "import matplotlib.pyplot as plt   #biblioteca\n",
        "dados = {'X':   [ 2,  3,  4,  5,  6,  7,  8,  9, 10], # Dicionário, contendo valores.\n",
        "         'Y':   [48, 50, 56, 43, 60, 62, 58, 64, 72]}\n",
        "df = pd.DataFrame(dados,columns = ['X', 'Y'])  # Chamada da biblioteca \"pandas\" selecionando as colunas do dicionário\n",
        "Correl = df.corr() # Função que calcula a correlação\n",
        "print(Correl) # Imprime o resultado da correlação\n",
        "sn.heatmap(Correl, annot=True) # Biblioteca que imprime os valores de forma visual\n",
        "plt.show()  # De fato mostra e imprime a função da linha acima'''\n",
        "\n",
        "# Questão 4\n",
        "\n",
        "'''import pandas as pd  #biblioteca\n",
        "import seaborn as sn  #biblioteca\n",
        "import matplotlib.pyplot as plt  #biblioteca \n",
        "dados = {'X':[12,   16,  18,  20,  28,  30,  40,  50,  54], # Dicionário, contendo valores.\n",
        "         'Y':[7.2, 7.4, 7.0, 6.5, 6.6, 6.7, 5.6, 6.0, 5.5]} \n",
        "df = pd.DataFrame(dados,columns = ['X', 'Y'])  # Chamada da biblioteca \"pandas\" selecionando as colunas do dicionário\n",
        "Correl = df.corr()  # Função que calcula a correlação\n",
        "print(Correl)# Imprime o resultado da correlação\n",
        "sn.heatmap(Correl, annot=True) # Biblioteca que imprime os valores de forma visual\n",
        "plt.show()  # De fato mostra e imprime a função da linha acima'''\n",
        "\n",
        "\n",
        "\n",
        "# Questão 6\n",
        "'''\n",
        "import pandas as pd #biblioteca\n",
        "import seaborn as sn #biblioteca\n",
        "import matplotlib.pyplot as plt #biblioteca \n",
        "dados = {'Produtividade': [100, 102, 105, 108, 112, 120], # Dicionário, contendo valores.\n",
        "        'Alimentação':    [  4,   5,   1,   3,   6,   2],\n",
        "        'Exercícios':     [  1,   3,   2,   4,   5,   6],\n",
        "        'Rodízio':        [  3,   1,   2,   6,   4,   5]}\n",
        "df = pd.DataFrame(dados,columns = ['Produtividade', 'Alimentação', 'Exercícios', 'Rodízio'])  # Chamada da biblioteca \"pandas\" selecionando as colunas do dicionário\n",
        "Correl = df.corr() # Função que calcula a correlação\n",
        "print(Correl) # Imprime o resultado da correlação\n",
        "sn.heatmap(Correl, annot=True)  # Biblioteca que imprime os valores de forma visual\n",
        "plt.show() # De fato mostra e imprime a função da linha acima\n",
        "\n",
        "# O coeficiente confirma a impressão visual dos diagramas?\n",
        "# Respota: Sim. O coeficiente em todos os casos é bem pequeno,\n",
        "# mostrando que há uma mínina relação entre esses dados.\n",
        "'''\n",
        "\n",
        "\n",
        "\n"
      ],
      "execution_count": 10,
      "outputs": [
        {
          "output_type": "error",
          "ename": "TypeError",
          "evalue": "ignored",
          "traceback": [
            "\u001b[0;31m---------------------------------------------------------------------------\u001b[0m",
            "\u001b[0;31mTypeError\u001b[0m                                 Traceback (most recent call last)",
            "\u001b[0;32m<ipython-input-10-b2cb57cbb119>\u001b[0m in \u001b[0;36m<module>\u001b[0;34m()\u001b[0m\n\u001b[1;32m     55\u001b[0m dados = {'X':[2000, 4000, 6000, 8000, 10000, 15000],\n\u001b[1;32m     56\u001b[0m          'Y':[20000, 30000, 50000, 60000, 80000, 100000]}\n\u001b[0;32m---> 57\u001b[0;31m \u001b[0mMediaSimples\u001b[0m \u001b[0;34m=\u001b[0m \u001b[0mstatistics\u001b[0m\u001b[0;34m.\u001b[0m\u001b[0mmean\u001b[0m\u001b[0;34m(\u001b[0m\u001b[0;34m'X'\u001b[0m\u001b[0;34m,\u001b[0m \u001b[0;34m'Y'\u001b[0m\u001b[0;34m)\u001b[0m\u001b[0;34m\u001b[0m\u001b[0;34m\u001b[0m\u001b[0m\n\u001b[0m\u001b[1;32m     58\u001b[0m \u001b[0mprint\u001b[0m\u001b[0;34m(\u001b[0m\u001b[0;34m'A média simples é'\u001b[0m\u001b[0;34m,\u001b[0m \u001b[0mround\u001b[0m\u001b[0;34m(\u001b[0m\u001b[0mMediaSimples\u001b[0m\u001b[0;34m,\u001b[0m\u001b[0;36m2\u001b[0m\u001b[0;34m)\u001b[0m\u001b[0;34m)\u001b[0m\u001b[0;34m\u001b[0m\u001b[0;34m\u001b[0m\u001b[0m\n\u001b[1;32m     59\u001b[0m \u001b[0;34m\u001b[0m\u001b[0m\n",
            "\u001b[0;31mTypeError\u001b[0m: mean() takes 1 positional argument but 2 were given"
          ]
        }
      ]
    },
    {
      "cell_type": "code",
      "metadata": {
        "id": "Pskjj-L0Hjgk"
      },
      "source": [
        ""
      ],
      "execution_count": null,
      "outputs": []
    }
  ]
}